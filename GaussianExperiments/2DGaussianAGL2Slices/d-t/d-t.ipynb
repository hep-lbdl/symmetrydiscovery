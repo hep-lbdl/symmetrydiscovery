{
 "cells": [
  {
   "cell_type": "code",
   "execution_count": 1,
   "metadata": {},
   "outputs": [],
   "source": [
    "import tensorflow as tf\n",
    "import numpy as np\n",
    "import matplotlib.pyplot as plt\n",
    "from numpy import hstack\n",
    "from numpy import zeros\n",
    "from numpy import ones\n",
    "from numpy.random import rand\n",
    "from numpy.random import randn\n",
    "from tensorflow.keras.models import Sequential\n",
    "from tensorflow.keras.layers import Lambda, Dense, Input, Layer, Dropout\n",
    "from tensorflow.keras.callbacks import EarlyStopping, LambdaCallback\n",
    "from tensorflow.keras.utils import to_categorical\n",
    "from tensorflow.keras.models import Model\n",
    "from matplotlib import pyplot\n",
    "from sklearn.model_selection import train_test_split\n",
    "import scipy\n",
    "from matplotlib import gridspec\n",
    "from tensorflow.keras.layers import Layer\n",
    "import sys\n",
    "import tensorflow as tf\n",
    "import numpy as np\n",
    "import matplotlib.pyplot as plt\n",
    "from numpy import hstack\n",
    "from numpy import zeros\n",
    "from numpy import ones\n",
    "from numpy.random import rand\n",
    "from numpy.random import randn\n",
    "from tensorflow.keras.models import Sequential\n",
    "from tensorflow.keras.layers import Lambda, Dense, Input, Layer, Dropout\n",
    "from tensorflow.keras.callbacks import EarlyStopping, LambdaCallback\n",
    "from tensorflow.keras.utils import to_categorical\n",
    "from tensorflow.keras.models import Model\n",
    "from matplotlib import pyplot\n",
    "from sklearn.model_selection import train_test_split\n",
    "import scipy\n",
    "from matplotlib import gridspec\n",
    "from tensorflow.keras.layers import Layer"
   ]
  },
  {
   "cell_type": "code",
   "execution_count": 27,
   "metadata": {},
   "outputs": [],
   "source": [
    "class MyLayer(Layer):\n",
    "\n",
    "    def __init__(self, **kwargs):\n",
    "        super(MyLayer, self).__init__(**kwargs)\n",
    "\n",
    "    def build(self, input_shape):\n",
    "        # Create a trainable weight variable for this layer.\n",
    "        self._t = self.add_weight(name='x', \n",
    "                                    shape=(1,),\n",
    "                                    initializer=tf.keras.initializers.RandomUniform(minval=0, maxval=2*np.pi), #'uniform',\n",
    "                                    trainable=True)\n",
    "        self._d = self.add_weight(name='x', \n",
    "                                    shape=(1,),\n",
    "                                    initializer=tf.keras.initializers.RandomUniform(minval=-3, maxval=3), #'uniform',\n",
    "                                    trainable=True)\n",
    "        super(MyLayer, self).build(input_shape)  # Be sure to call this at the end\n",
    "\n",
    "    def call(self, X):\n",
    "        u = 0.0\n",
    "        p = -1.0 if self._d < 0.0 else 1.0\n",
    "        r = 1.1\n",
    "        D = tf.math.sqrt(tf.math.abs(self._d))\n",
    "        sin = tf.math.sin(self._t)\n",
    "        cos = tf.math.cos(self._t)\n",
    "        npc = [[D*r*cos + D*u*sin/r,\n",
    "                u*cos/r - r*sin],\n",
    "               [D*p*sin/r, D*p*cos/r]]\n",
    "        M = tf.convert_to_tensor(npc)\n",
    "        M = tf.reshape(M, [2, 2])\n",
    "        return tf.linalg.matmul(X, M)"
   ]
  },
  {
   "cell_type": "code",
   "execution_count": 28,
   "metadata": {},
   "outputs": [],
   "source": [
    "def define_discriminator(n_inputs=2):\n",
    "\tmodel = Sequential()\n",
    "\tmodel.add(Dense(25, activation='relu', input_dim=n_inputs))\n",
    "\tmodel.add(Dense(25, activation='relu', input_dim=n_inputs))    \n",
    "\tmodel.add(Dense(1, activation='sigmoid'))\n",
    "\t# compile model\n",
    "\tmodel.compile(loss='binary_crossentropy', optimizer='adam', metrics=['accuracy'])\n",
    "\treturn model\n",
    " \n",
    "# define the standalone generator model\n",
    "def define_generator(n_outputs=1):\n",
    "\t#model = Sequential()\n",
    "\t#model.add(Dense(15, activation='relu', input_dim=n_outputs))\n",
    "\t#model.add(Dense(15, activation='relu', input_dim=n_outputs))    \n",
    "\t#model.add(Dense(n_outputs, activation='linear'))\n",
    "\n",
    "\tmymodel_inputtest = Input(shape=(2,))\n",
    "\tmymodel_test = MyLayer()(mymodel_inputtest)\n",
    "\tmodel = Model(mymodel_inputtest, mymodel_test)\n",
    "\treturn model\n",
    " \n",
    "# define the combined generator and discriminator model, for updating the generator\n",
    "def define_gan(generator, discriminator):\n",
    "\t# make weights in the discriminator not trainable\n",
    "\tdiscriminator.trainable = False\n",
    "\t# connect them\n",
    "\tmodel = Sequential()\n",
    "\t# add generator\n",
    "\tmodel.add(generator)\n",
    "\t# add the discriminator\n",
    "\tmodel.add(discriminator)\n",
    "\t# compile model\n",
    "\tmodel.compile(loss='binary_crossentropy', optimizer='adam')\n",
    "\treturn model\n",
    " \n",
    "# generate n real samples with class labels\n",
    "def generate_real_samples(n):\n",
    "\tX = np.random.multivariate_normal([0, 0], [[1, 0],[0, 2]],n)\n",
    "\ty = ones((n, 1))\n",
    "\treturn X, y\n",
    " \n",
    "# generate points in latent space as input for the generator\n",
    "def generate_latent_points(n):\n",
    "\t# generate points in the latent space\n",
    "\tx_input = generate_real_samples(n)\n",
    "\treturn x_input[0]\n",
    " \n",
    "# use the generator to generate n fake examples, with class labels\n",
    "def generate_fake_samples(generator, n):\n",
    "\t# generate points in latent space\n",
    "\tx_input = generate_latent_points(n)\n",
    "\t# predict outputs\n",
    "\tX = generator.predict(x_input)\n",
    "\t# create class labels\n",
    "\ty = zeros((n, 1))\n",
    "\treturn X, y\n",
    "\n",
    "def generate_fake_samples_with_input(generator, n):\n",
    "\t# generate points in latent space\n",
    "\tx_input = generate_latent_points(n)\n",
    "\t# predict outputs\n",
    "\tX = generator.predict(x_input)\n",
    "\t# create class labels\n",
    "\ty = zeros((n, 1))\n",
    "\treturn X, y, x_input\n",
    " \n",
    "# train the generator and discriminator\n",
    "def train(g_model, d_model, gan_model, n_epochs=10000, n_batch=128, n_eval=2000):\n",
    "\t# determine half the size of one batch, for updating the discriminator\n",
    "\thalf_batch = int(n_batch / 2)\n",
    "\t# manually enumerate epochs\n",
    "\tfor i in range(n_epochs):\n",
    "\t\t# prepare real samples\n",
    "\t\tx_real, y_real = generate_real_samples(half_batch)\n",
    "\t\t# prepare fake examples\n",
    "\t\tx_fake, y_fake = generate_fake_samples(g_model, half_batch)\n",
    "\t\t# update discriminator\n",
    "\t\td_model.train_on_batch(x_real, y_real)\n",
    "\t\td_model.train_on_batch(x_fake, y_fake)\n",
    "\t\t# prepare points in latent space as input for the generator\n",
    "\t\tx_gan = generate_latent_points(n_batch)\n",
    "\t\t# create inverted labels for the fake samples\n",
    "\t\ty_gan = ones((n_batch, 1))\n",
    "\t\t# update the generator via the discriminator's error\n",
    "\t\tgan_model.train_on_batch(x_gan, y_gan)\n",
    "#\t\tif (i+1) % n_eval == 0:\n",
    "#\t\t\tprint(\"epoch = \", i)"
   ]
  },
  {
   "cell_type": "code",
   "execution_count": 31,
   "metadata": {},
   "outputs": [
    {
     "name": "stdout",
     "output_type": "stream",
     "text": [
      "j =  0\n",
      "T-D Symm Gaussian\n",
      "t_i =  [2.1251154]\n",
      "d_i =  [1.149889]\n",
      "t_f =  [3.1395376]\n",
      "d_f =  [0.9769809]\n"
     ]
    }
   ],
   "source": [
    "N = 1\n",
    "t_i = []\n",
    "d_i = []\n",
    "t_f = []\n",
    "d_f = []\n",
    "for j in range(N):\n",
    "    print(\"j = \", j)\n",
    "    # create the discriminator\n",
    "    discriminator = define_discriminator()\n",
    "    # create the generator\n",
    "    generator = define_generator()\n",
    "    # create the gan\n",
    "    gan_model = define_gan(generator, discriminator)\n",
    "    t_i.append(generator.layers[-1].get_weights()[0][0])\n",
    "    d_i.append(generator.layers[-1].get_weights()[1][0])\n",
    "    # train model\n",
    "    train(generator, discriminator, gan_model)\n",
    "    t_f.append(generator.layers[-1].get_weights()[0][0])\n",
    "    d_f.append(generator.layers[-1].get_weights()[1][0])\n",
    "print(\"T-D Symm Gaussian\")\n",
    "print(\"t_i = \", t_i)\n",
    "print(\"d_i = \", d_i)\n",
    "print(\"t_f = \", t_f)\n",
    "print(\"d_f = \", d_f)"
   ]
  },
  {
   "cell_type": "code",
   "execution_count": 1,
   "metadata": {},
   "outputs": [],
   "source": [
    "#Symm Gaussian\n",
    "r_i =  [4.047737, 0.84063965, 0.13682911, 3.8362315, 3.8677125, 3.6373777, 2.8207164, 2.4288027, 3.2546165, 1.873911, 4.6465254, 3.0711076, 1.3932312, 2.7272558, 3.3701437, 4.035857, 4.7524476, 4.4768085, 3.0448525, 4.9576974]\n",
    "u_i =  [3.3579054, -4.5666494, -0.15011692, -3.540461, 1.6594086, 0.740963, -3.8030112, 4.389099, -2.4899662, 2.7390156, -0.43959713, -2.5205946, 0.37490845, -2.0045698, -2.9170394, 0.34424686, 2.1927428, 4.366885, -3.0970168, -4.181629]\n",
    "r_f =  [1.0068989, 0.9758745, 0.984598, 1.00167, 0.9945651, 0.94825447, 1.0486709, 1.0948684, 1.0296663, 0.99369985, 0.9932631, 1.0295595, 1.0492258, 1.0054741, 0.9595521, 1.015585, 0.9778937, 1.0091602, 0.93136644, 0.9979317]\n",
    "u_f =  [-0.0561115, -0.0025799843, 0.048850406, -0.067383595, 0.07411632, 0.05210436, 0.008509087, -0.0027763678, -0.05630437, 0.022677545, 0.0114689255, -0.00998354, 0.06967805, 0.049570683, -0.0018069658, 0.014975463, -0.019112213, 0.034702126, -0.017755948, 0.001407847]"
   ]
  },
  {
   "cell_type": "code",
   "execution_count": 5,
   "metadata": {},
   "outputs": [],
   "source": [
    "import  matplotlib.pyplot as plt\n",
    "import numpy as np"
   ]
  },
  {
   "cell_type": "code",
   "execution_count": 7,
   "metadata": {},
   "outputs": [
    {
     "ename": "NameError",
     "evalue": "name 'u_f' is not defined",
     "output_type": "error",
     "traceback": [
      "\u001b[0;31m---------------------------------------------------------------------------\u001b[0m",
      "\u001b[0;31mNameError\u001b[0m                                 Traceback (most recent call last)",
      "\u001b[0;32m<ipython-input-7-ea00ce5a2839>\u001b[0m in \u001b[0;36m<module>\u001b[0;34m\u001b[0m\n\u001b[0;32m----> 1\u001b[0;31m \u001b[0mplt\u001b[0m\u001b[0;34m.\u001b[0m\u001b[0mscatter\u001b[0m\u001b[0;34m(\u001b[0m\u001b[0mr_f\u001b[0m\u001b[0;34m,\u001b[0m \u001b[0mu_f\u001b[0m\u001b[0;34m)\u001b[0m\u001b[0;34m\u001b[0m\u001b[0;34m\u001b[0m\u001b[0m\n\u001b[0m\u001b[1;32m      2\u001b[0m \u001b[0mplt\u001b[0m\u001b[0;34m.\u001b[0m\u001b[0mxlim\u001b[0m\u001b[0;34m(\u001b[0m\u001b[0;36m0.5\u001b[0m\u001b[0;34m,\u001b[0m \u001b[0;36m1.5\u001b[0m\u001b[0;34m)\u001b[0m\u001b[0;34m\u001b[0m\u001b[0;34m\u001b[0m\u001b[0m\n\u001b[1;32m      3\u001b[0m \u001b[0mplt\u001b[0m\u001b[0;34m.\u001b[0m\u001b[0mylim\u001b[0m\u001b[0;34m(\u001b[0m\u001b[0;34m-\u001b[0m\u001b[0;36m.5\u001b[0m\u001b[0;34m,\u001b[0m \u001b[0;36m.5\u001b[0m\u001b[0;34m)\u001b[0m\u001b[0;34m\u001b[0m\u001b[0;34m\u001b[0m\u001b[0m\n\u001b[1;32m      4\u001b[0m \u001b[0mplt\u001b[0m\u001b[0;34m.\u001b[0m\u001b[0mxlabel\u001b[0m\u001b[0;34m(\u001b[0m\u001b[0;34mr\"$r_f$\"\u001b[0m\u001b[0;34m)\u001b[0m\u001b[0;34m\u001b[0m\u001b[0;34m\u001b[0m\u001b[0m\n\u001b[1;32m      5\u001b[0m \u001b[0mplt\u001b[0m\u001b[0;34m.\u001b[0m\u001b[0mylabel\u001b[0m\u001b[0;34m(\u001b[0m\u001b[0;34mr\"$u_f$\"\u001b[0m\u001b[0;34m)\u001b[0m\u001b[0;34m\u001b[0m\u001b[0;34m\u001b[0m\u001b[0m\n",
      "\u001b[0;31mNameError\u001b[0m: name 'u_f' is not defined"
     ]
    }
   ],
   "source": [
    "plt.scatter(r_f, u_f)\n",
    "plt.xlim(0.5, 1.5)\n",
    "plt.ylim(-.5, .5)\n",
    "plt.xlabel(r\"$r_f$\")\n",
    "plt.ylabel(r\"$u_f$\")\n",
    "plt.rc('font', size=15)\n",
    "plt.savefig(\"6GL2symmnumeric.pdf\", bbox_inches='tight')"
   ]
  },
  {
   "cell_type": "code",
   "execution_count": 4,
   "metadata": {},
   "outputs": [
    {
     "data": {
      "text/plain": [
       "Text(0, 0.5, 'r_f')"
      ]
     },
     "execution_count": 4,
     "metadata": {},
     "output_type": "execute_result"
    },
    {
     "data": {
      "image/png": "[encoded data removed]",
      "text/plain": [
       "<Figure size 432x288 with 1 Axes>"
      ]
     },
     "metadata": {
      "needs_background": "light"
     },
     "output_type": "display_data"
    }
   ],
   "source": [
    "plt.scatter(r_i, r_f)\n",
    "plt.ylim(0, 5)\n",
    "plt.xlabel(\"r_i\")\n",
    "plt.ylabel(\"r_f\")"
   ]
  },
  {
   "cell_type": "code",
   "execution_count": 15,
   "metadata": {},
   "outputs": [
    {
     "data": {
      "text/plain": [
       "Text(0, 0.5, 'u_f')"
      ]
     },
     "execution_count": 15,
     "metadata": {},
     "output_type": "execute_result"
    },
    {
     "data": {
      "image/png": "[encoded data removed]",
      "text/plain": [
       "<Figure size 432x288 with 1 Axes>"
      ]
     },
     "metadata": {
      "needs_background": "light"
     },
     "output_type": "display_data"
    }
   ],
   "source": [
    "plt.scatter(u_i, u_f)\n",
    "plt.ylim(-5, 5)\n",
    "plt.xlabel(\"u_i\")\n",
    "plt.ylabel(\"u_f\")"
   ]
  },
  {
   "cell_type": "code",
   "execution_count": 4,
   "metadata": {},
   "outputs": [],
   "source": [
    "#Asymm Gaussian\n",
    "r_i =  [3.4463587, 1.1209171, 0.53341824, 2.6856556, 0.23305914, 3.3552783, 0.9803788, 4.508868, 3.3090022, 4.34388, 0.19854724, 2.7110398, 3.398975, 3.2225568, 4.6280046, 4.720651, 3.8486, 4.4424686, 4.1994705, 3.2091575]\n",
    "t_i =  [2.2090852, 4.129398, 3.7658083, 2.9302523, 3.4482174, 4.745966, 0.99803656, 4.2039485, 1.2494574, 0.1891695, 6.103948, 4.6285825, 3.8449335, 1.8280386, 4.9427776, 4.5621367, 1.0115248, 0.7354337, 5.9507923, 4.2098]\n",
    "r_f =  [1.4009806, 1.4297751, 1.034186, 1.4366382, 1.046602, 1.4876677, 1.4623227, 1.397309, 1.3838735, 1.4087247, 0.9628993, 1.4529315, 1.4046239, 1.3495945, 1.4040593, 1.4463668, 1.4767495, 1.4307346, 1.384502, 1.4456987]\n",
    "t_f =  [1.580235, 4.732109, 3.142777, 4.7007823, 3.1308951, 4.7093744, 1.5773579, 4.641526, 1.5814848, 1.5799842, 6.260367, 4.768169, 4.7461987, 1.5872339, 4.7185707, 4.699999, 1.5516787, 1.5685986, 4.6966057, 4.7389884]"
   ]
  },
  {
   "cell_type": "code",
   "execution_count": 10,
   "metadata": {},
   "outputs": [
    {
     "data": {
      "image/png": "[encoded data removed]",
      "text/plain": [
       "<Figure size 432x288 with 1 Axes>"
      ]
     },
     "metadata": {
      "needs_background": "light"
     },
     "output_type": "display_data"
    }
   ],
   "source": [
    "plt.scatter(t_f, r_f)\n",
    "plt.ylim(0.5, 3)\n",
    "plt.xlim(0, np.pi*2)\n",
    "plt.xlabel(r\"$r_f$\")\n",
    "plt.ylabel(r\"$u_f$\")\n",
    "plt.rc('font', size=15)\n",
    "#plt.savefig(\"6GL2symmRUnumeric.pdf\")"
   ]
  },
  {
   "cell_type": "code",
   "execution_count": 11,
   "metadata": {},
   "outputs": [],
   "source": [
    "#Asymm Gaussian 50\n",
    "r_i =  [2.063396, 3.6636972, 2.5103862, 3.5810902, 3.6325674, 4.495326, 1.984934, 0.8320688, 0.9919299, 2.1490164, 3.3116856, 1.1730748, 4.42944, 1.566651, 4.1210523, 3.980332, 2.39257, 3.1232696, 2.4356117, 3.6188755, 2.6474538, 4.875555, 2.510895, 0.58553684, 0.707799, 1.3470888, 1.9152215, 4.835427, 0.61661935, 2.6475332, 2.0312953, 1.7302593, 2.613502, 4.7913213, 4.511952, 3.201679, 3.0997684, 1.7308283, 2.8530886, 0.7313831, 2.1871219, 0.1435962, 3.6228278, 1.3806362, 4.171863, 1.9733367, 3.9872887, 0.15671976, 3.621785, 3.655354]\n",
    "t_i =  [5.283809, 5.47323, 3.6387823, 3.9622524, 1.1548951, 3.897201, 2.3732586, 3.1352837, 3.9746387, 5.7943068, 1.0778327, 5.792286, 2.5133586, 0.6106045, 1.8384161, 4.9308143, 4.39754, 3.404168, 0.9744733, 3.158823, 1.8573557, 0.6655335, 4.095487, 0.82793546, 0.16464378, 5.392879, 2.4576747, 5.7138734, 5.67145, 4.8598266, 4.95737, 3.1813219, 4.643473, 5.5258446, 4.4472413, 5.421492, 5.6321692, 2.7284718, 4.7436476, 4.9598193, 3.2055292, 3.5655048, 3.7990787, 0.71796596, 4.5929117, 2.0998602, 4.770995, 6.095508, 5.70822, 1.720558]\n",
    "r_f =  [1.367187, 1.4238274, 1.512439, 1.458223, 1.3575237, 1.4233363, 1.3696543, 0.97316676, 1.4422977, 1.49283, 1.3939086, 1.0406915, 1.356594, 1.451498, 1.4384165, 1.4370223, 1.385872, 1.4634211, 1.4201206, 1.4590988, 1.4166975, 1.4641503, 1.420858, 0.94242096, 1.0257096, 1.5293878, 1.3941123, 1.412231, 1.0065454, 1.4459907, 1.4174943, 1.0228099, 1.4323775, 1.4123508, 1.4236925, 1.3879843, 1.4693421, 1.4628977, 1.4559647, 1.4243586, 1.3931509, 0.99704975, 1.4169141, 1.4442147, 1.3903972, 1.3451343, 1.4358016, 0.97837377, 1.402371, 1.3870515]\n",
    "t_f =  [4.78514, 4.7455807, 4.760715, 4.7438602, 1.5782859, 4.7247753, 1.5924724, 3.2692423, 4.7897315, 4.7405195, 1.6019046, 6.343696, 1.5436602, 1.4656489, 1.5331241, 4.716511, 4.6493616, 4.6813674, 1.5569783, 1.5585345, 1.593144, 1.5823615, 4.731026, -0.045434456 + 2*np.pi, 0.01640383 + 2*np.pi, 4.7840915, 1.5650119, 4.728571, 6.27298, 4.698145, 4.653401, 3.0271366, 4.790637, 4.6883116, 4.7108326, 4.7267146, 4.7524047, 1.5506527, 4.677791, 4.7403774, 4.728751, 3.1290557, 4.7226524, 1.5491346, 4.730191, 1.5581867, 4.7097545, 6.3255105, 4.711753, 1.555137]"
   ]
  },
  {
   "cell_type": "code",
   "execution_count": 25,
   "metadata": {},
   "outputs": [
    {
     "data": {
      "image/png": "[encoded data removed]",
      "text/plain": [
       "<Figure size 432x288 with 1 Axes>"
      ]
     },
     "metadata": {
      "needs_background": "light"
     },
     "output_type": "display_data"
    }
   ],
   "source": [
    "plt.scatter(t_f, r_f, alpha=0.5, color='orange')\n",
    "plt.ylim(0.9, 1.55)\n",
    "plt.xlim(1.3, np.pi*2 + 0.2)\n",
    "plt.xlabel(r\"$t_f$\")\n",
    "plt.ylabel(r\"$r_f$\")\n",
    "plt.rc('font', size=15)\n",
    "plt.savefig(\"6GL2asymmRUnumeric.pdf\", bbox_inches='tight')"
   ]
  },
  {
   "cell_type": "code",
   "execution_count": 17,
   "metadata": {},
   "outputs": [],
   "source": [
    "#Asymm Gaussian\n",
    "r_i =  [3.6716535, 1.4299108, 1.9763333, 0.8749214, 1.0281509, 4.506564, 0.13231207, 2.7209647, 0.88221306, 4.57176, 3.0261703, 1.3627025, 4.328638, 1.713225, 2.8900697, 4.330122, 3.3220668, 4.7990427, 3.6490486, 0.44952026, 4.864774, 0.44880122, 4.9838734, 4.5496464, 3.472437, 2.2876313, 0.80129296, 3.5557187, 0.9457904, 3.920754, 0.41633317, 2.2496023, 2.0889544, 4.450305, 0.43839383, 4.6057253, 2.457634, 4.035287, 1.0328654, 3.2041013, 2.2094846, 3.6192381, 2.398504, 1.8459915, 4.5521255, 2.091399, 3.3528986, 2.1109366, 1.0160005, 3.6054406]\n",
    "t_i =  [2.7969437, 5.905197, 2.1834733, 5.3250175, 3.4407556, 5.417985, 3.6026993, 0.2741901, 4.9848304, 4.656917, 3.0869288, 0.9677599, 2.5424452, 1.0723807, 3.7291105, 4.7184787, 2.5515068, 0.40301976, 1.1062294, 4.0197644, 4.5832963, 1.3243715, 3.8735824, 4.758721, 5.690676, 4.6463013, 1.3244689, 3.472606, 5.5000854, 0.4057282, 2.7191548, 5.2996635, 2.8454356, 4.735119, 2.3328838, 0.38658264, 0.47203615, 2.9695952, 5.3433113, 4.6325765, 2.34864, 2.9144573, 4.9329467, 2.2849836, 5.905943, 3.4253192, 0.9380068, 2.0914652, 4.592051, 5.5237517]\n",
    "d_i =  [2.952692, -1.9804401, 1.7527585, 2.419898, 2.2822657, 2.001204, 2.2335224, 1.0801964, -2.4715111, 2.6933784, 2.3479862, -1.0501878, 1.5850401, -0.4788823, 0.8542564, -0.18250108, -0.75645876, -0.5479431, -0.15716743, -2.7475648, -2.5299053, -1.5984342, 1.6988049, -0.31777668, -0.91931105, 2.581503, -1.3237138, 0.73882556, 0.6914234, -0.60854816, -1.3695595, -0.10419202, 2.963376, 1.945838, 2.820261, 2.7180738, 0.7644818, -0.7241607, 1.3010197, 0.9513216, -1.0357683, 1.1482887, -0.8388448, 2.7911353, 1.5476599, 0.22999692, -1.174495, 1.494318, -0.44175696, 2.6037407]\n",
    "r_f =  [1.3593013, 1.0492636, 1.4618349, 1.0899203, 1.0031526, 1.4409105, 0.9819882, 1.4064548, 1.4421917, 1.3624455, 1.4170132, 1.3553938, 1.3716658, 1.4815816, 1.3559558, 1.3822589, 1.0126588, 1.266458, 1.338815, 0.9663095, 1.3745881, 1.0804791, 1.4050388, 1.4568299, 1.4539452, 1.3842342, 1.3739771, 1.0105221, 1.473636, 1.4142339, 1.0126189, 1.3737123, 1.4834924, 1.4115928, 1.0352794, 1.4121634, 1.3699896, 1.0246292, 1.31433, 1.3611809, 1.3170903, 1.412804, 1.4127262, 1.4498645, 1.3787605, 1.4178221, 1.3830416, 1.4556682, 1.3846798, 1.4829333]\n",
    "t_f =  [1.593778, 6.2403, 1.5361246, 6.2296557, 3.0240803, 4.7317576, 3.1633246, 1.6193887, 4.660294, 4.7023993, 4.741875, 1.6005104, 1.590836, 1.5553248, 4.786197, 4.708026, 3.1206274, 1.3996565, 1.5665339, 3.1477525, 4.7050853, -0.022588981 + 2*np.pi, 4.71512, 4.7410793, 4.709803, 4.701194, 1.5627947, 3.149163, 4.7119923, 1.5608418, 3.231311, 4.650696, 1.5566337, 4.6837845, 3.200696, 1.5913185, 1.5288295, 3.1562593, 4.781592, 4.683845, 1.5141768, 1.575873, 4.7659125, 1.526099, 4.701308, 4.645064, 1.5539864, 1.6315435, 4.712172, 4.7233734]\n",
    "d_f =  [1.074302, -1.0104588, 0.9042845, 0.96685183, 0.95960724, 0.9230752, 0.99717593, 0.98355186, -0.9488865, 1.0067351, 0.9747886, -1.0506442, 1.0618142, -0.9776307, 1.0118574, -1.04299, -1.0022044, 0.6102616, -1.0179237, -0.9523614, -1.0769254, -1.0286342, 1.030065, -1.0246787, -0.9192014, 0.98768777, -1.04105, -0.9981517, 0.9681331, 0.948629, -1.0028123, 1.037082, 0.91035014, 0.94851136, 0.97051007, 1.0461475, -1.011442, 0.96728665, 1.1055187, 0.90896094, -1.0746623, 0.99537826, -0.94513786, 1.0006684, 1.0048752, -0.97649574, -0.9755518, 1.0010103, -1.0289658, 0.9212951]"
   ]
  },
  {
   "cell_type": "code",
   "execution_count": 7,
   "metadata": {},
   "outputs": [
    {
     "data": {
      "text/plain": [
       "<matplotlib.collections.PathCollection at 0x2aaad6bdba90>"
      ]
     },
     "execution_count": 7,
     "metadata": {},
     "output_type": "execute_result"
    },
    {
     "data": {
      "image/png": "[encoded data removed]",
      "text/plain": [
       "<Figure size 432x288 with 1 Axes>"
      ]
     },
     "metadata": {
      "needs_background": "light"
     },
     "output_type": "display_data"
    }
   ],
   "source": [
    "plt.scatter(d_i, d_f)"
   ]
  },
  {
   "cell_type": "code",
   "execution_count": 19,
   "metadata": {},
   "outputs": [],
   "source": [
    "rp = [r_f[n] for n in range(50) if d_f[n] > 0]\n",
    "rm = [r_f[n] for n in range(50) if d_f[n] < 0]\n",
    "tp = [t_f[n] for n in range(50) if d_f[n] > 0]\n",
    "tm = [t_f[n] for n in range(50) if d_f[n] < 0]"
   ]
  },
  {
   "cell_type": "code",
   "execution_count": 20,
   "metadata": {},
   "outputs": [
    {
     "data": {
      "text/plain": [
       "<matplotlib.collections.PathCollection at 0x2aaad7447390>"
      ]
     },
     "execution_count": 20,
     "metadata": {},
     "output_type": "execute_result"
    },
    {
     "data": {
      "image/png": "[encoded data removed]",
      "text/plain": [
       "<Figure size 432x288 with 1 Axes>"
      ]
     },
     "metadata": {
      "needs_background": "light"
     },
     "output_type": "display_data"
    }
   ],
   "source": [
    "plt.scatter(tp, rp)"
   ]
  },
  {
   "cell_type": "code",
   "execution_count": 21,
   "metadata": {},
   "outputs": [
    {
     "data": {
      "text/plain": [
       "<matplotlib.collections.PathCollection at 0x2aaad749f9d0>"
      ]
     },
     "execution_count": 21,
     "metadata": {},
     "output_type": "execute_result"
    },
    {
     "data": {
      "image/png": "[encoded data removed]",
      "text/plain": [
       "<Figure size 432x288 with 1 Axes>"
      ]
     },
     "metadata": {
      "needs_background": "light"
     },
     "output_type": "display_data"
    }
   ],
   "source": [
    "plt.scatter(tm, rm)"
   ]
  },
  {
   "cell_type": "code",
   "execution_count": null,
   "metadata": {},
   "outputs": [],
   "source": []
  }
 ],
 "metadata": {
  "kernelspec": {
   "display_name": "Python 3",
   "language": "python",
   "name": "python3"
  },
  "language_info": {
   "codemirror_mode": {
    "name": "ipython",
    "version": 3
   },
   "file_extension": ".py",
   "mimetype": "text/x-python",
   "name": "python",
   "nbconvert_exporter": "python",
   "pygments_lexer": "ipython3",
   "version": "3.8.5"
  }
 },
 "nbformat": 4,
 "nbformat_minor": 4
}
