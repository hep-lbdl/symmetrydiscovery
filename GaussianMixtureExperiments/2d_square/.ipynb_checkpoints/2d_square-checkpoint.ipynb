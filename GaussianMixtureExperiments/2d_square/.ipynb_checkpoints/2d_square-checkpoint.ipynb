{
 "cells": [
  {
   "cell_type": "code",
   "execution_count": 2,
   "id": "e3be8f84-d681-4bc9-bd5f-06e28b5df37d",
   "metadata": {},
   "outputs": [
    {
     "name": "stdout",
     "output_type": "stream",
     "text": [
      "j =  0\n",
      "epoch =  1999\n",
      "epoch =  3999\n",
      "epoch =  5999\n",
      "epoch =  7999\n",
      "epoch =  9999\n",
      "c_i =  [0.98823977]\n",
      "s_i =  [-0.96480036]\n",
      "c_f =  [1.0044719]\n",
      "s_f =  [-0.019113036]\n"
     ]
    }
   ],
   "source": [
    "import tensorflow as tf\n",
    "import numpy as np\n",
    "import matplotlib.pyplot as plt\n",
    "from numpy import hstack\n",
    "from numpy import zeros\n",
    "from numpy import ones\n",
    "from numpy.random import rand\n",
    "from numpy.random import randn\n",
    "from tensorflow.keras.models import Sequential\n",
    "from tensorflow.keras.layers import Lambda, Dense, Input, Layer, Dropout\n",
    "from tensorflow.keras.callbacks import EarlyStopping, LambdaCallback\n",
    "from tensorflow.keras.utils import to_categorical\n",
    "from tensorflow.keras.models import Model\n",
    "from matplotlib import pyplot\n",
    "from sklearn.model_selection import train_test_split\n",
    "import scipy\n",
    "from matplotlib import gridspec\n",
    "from tensorflow.keras.layers import Layer\n",
    "\n",
    "class MyLayer(Layer):\n",
    "\n",
    "    def __init__(self, kernel_initilizer=tf.keras.initializers.RandomUniform(minval=-1., maxval=1.), **kwargs):\n",
    "        super(MyLayer, self).__init__(**kwargs)\n",
    "        self.kernel_initializer = tf.keras.initializers.get(kernel_initilizer)\n",
    "\n",
    "    def build(self, input_shape):\n",
    "        # Create a trainable weight variable for this layer.\n",
    "        self._c = self.add_weight(name='x', \n",
    "                                    shape=(1,),\n",
    "                                    initializer=self.kernel_initializer, #'uniform',\n",
    "                                    trainable=True)\n",
    "        self._s = self.add_weight(name='x', \n",
    "                                    shape=(1,),\n",
    "                                    initializer=self.kernel_initializer, #'uniform',\n",
    "                                    trainable=True)\n",
    "        super(MyLayer, self).build(input_shape)  # Be sure to call this at the end\n",
    "\n",
    "    def call(self, X):\n",
    "        npc = [[self._c,-1.0*self._s],[self._s,self._c]]\n",
    "        M = tf.convert_to_tensor(npc)\n",
    "        M = tf.reshape(M, [2, 2])\n",
    "        return tf.linalg.matmul(X, M)\n",
    "    \n",
    "#Quick vanilla GAN from https://machinelearningmastery.com/how-to-develop-a-generative-adversarial-network-for-a-1-dimensional-function-from-scratch-in-keras/\n",
    " \n",
    "# define the standalone discriminator model\n",
    "def define_discriminator(n_inputs=2):\n",
    "\tmodel = Sequential()\n",
    "\tmodel.add(Dense(25, activation='relu', input_dim=n_inputs))\n",
    "\tmodel.add(Dense(25, activation='relu', input_dim=n_inputs))    \n",
    "\tmodel.add(Dense(1, activation='sigmoid'))\n",
    "\t# compile model\n",
    "\tmodel.compile(loss='binary_crossentropy', optimizer='adam', metrics=['accuracy'])\n",
    "\treturn model\n",
    " \n",
    "# define the standalone generator model\n",
    "def define_generator(n_outputs=1):\n",
    "\t#model = Sequential()\n",
    "\t#model.add(Dense(15, activation='relu', input_dim=n_outputs))\n",
    "\t#model.add(Dense(15, activation='relu', input_dim=n_outputs))    \n",
    "\t#model.add(Dense(n_outputs, activation='linear'))\n",
    "\n",
    "\tmymodel_inputtest = Input(shape=(2,))\n",
    "\tmymodel_test = MyLayer()(mymodel_inputtest)\n",
    "\tmodel = Model(mymodel_inputtest, mymodel_test)\n",
    "\treturn model\n",
    " \n",
    "# define the combined generator and discriminator model, for updating the generator\n",
    "def define_gan(generator, discriminator):\n",
    "\t# make weights in the discriminator not trainable\n",
    "\tdiscriminator.trainable = False\n",
    "\t# connect them\n",
    "\tmodel = Sequential()\n",
    "\t# add generator\n",
    "\tmodel.add(generator)\n",
    "\t# add the discriminator\n",
    "\tmodel.add(discriminator)\n",
    "\t# compile model\n",
    "\tmodel.compile(loss='binary_crossentropy', optimizer='adam')\n",
    "\treturn model\n",
    " \n",
    "# generate n real samples with class labels\n",
    "def generate_real_samples(n):\n",
    "\tamounts = np.random.multinomial(n,np.ones(25)/25.) \n",
    "\tX1 = []\n",
    "\tX2 = []\n",
    "\tmycounter = 0\n",
    "\tfor i in range(5):\n",
    "\t\tfor j in range(5):\n",
    "\t\t\tX1 = np.concatenate([X1,np.random.normal(i+0.1,0.1,amounts[mycounter])])\n",
    "\t\t\tX2 = np.concatenate([X2,np.random.normal(j+0.1,0.1,amounts[mycounter])])\n",
    "\t\t\tmycounter+=1\n",
    "\t\t\tpass\n",
    "\t\tpass    \n",
    "    \n",
    "\tX1 = X1.reshape(len(X1), 1)\n",
    "\tX2 = X2.reshape(len(X2), 1)    \n",
    "\tX = hstack((X1, X2))\n",
    "\tnp.random.shuffle(X)\n",
    "\t# generate class labels\n",
    "\ty = ones((n, 1))\n",
    "\treturn X, y\n",
    " \n",
    "# generate points in latent space as input for the generator\n",
    "def generate_latent_points(n):\n",
    "\t# generate points in the latent space\n",
    "\tx_input = generate_real_samples(n)\n",
    "\treturn x_input[0]\n",
    " \n",
    "# use the generator to generate n fake examples, with class labels\n",
    "def generate_fake_samples(generator, n):\n",
    "\t# generate points in latent space\n",
    "\tx_input = generate_latent_points(n)\n",
    "\t# predict outputs\n",
    "\tX = generator.predict(x_input)\n",
    "\t# create class labels\n",
    "\ty = zeros((n, 1))\n",
    "\treturn X, y\n",
    "\n",
    "def generate_fake_samples_with_input(generator, n):\n",
    "\t# generate points in latent space\n",
    "\tx_input = generate_latent_points(n)\n",
    "\t# predict outputs\n",
    "\tX = generator.predict(x_input)\n",
    "\t# create class labels\n",
    "\ty = zeros((n, 1))\n",
    "\treturn X, y, x_input\n",
    " \n",
    "# train the generator and discriminator\n",
    "def train(g_model, d_model, gan_model, n_epochs=10000, n_batch=128, n_eval=2000):\n",
    "\t# determine half the size of one batch, for updating the discriminator\n",
    "\thalf_batch = int(n_batch / 2)\n",
    "\t# manually enumerate epochs\n",
    "\tfor i in range(n_epochs):\n",
    "\t\t# prepare real samples\n",
    "\t\tx_real, y_real = generate_real_samples(half_batch)\n",
    "\t\t# prepare fake examples\n",
    "\t\tx_fake, y_fake = generate_fake_samples(g_model, half_batch)\n",
    "\t\t# update discriminator\n",
    "\t\td_model.train_on_batch(x_real, y_real)\n",
    "\t\td_model.train_on_batch(x_fake, y_fake)\n",
    "\t\t# prepare points in latent space as input for the generator\n",
    "\t\tx_gan = generate_latent_points(n_batch)\n",
    "\t\t# create inverted labels for the fake samples\n",
    "\t\ty_gan = ones((n_batch, 1))\n",
    "\t\t# update the generator via the discriminator's error\n",
    "\t\tgan_model.train_on_batch(x_gan, y_gan)\n",
    "\t\tif (i+1) % n_eval == 0:\n",
    "\t\t\tprint(\"epoch = \", i)\n",
    "          \n",
    "        \n",
    "N = 1\n",
    "c_i = []\n",
    "s_i = []\n",
    "c_f = []\n",
    "s_f = []\n",
    "for j in range(N):\n",
    "    print(\"j = \", j)\n",
    "    # create the discriminator\n",
    "    discriminator = define_discriminator()\n",
    "    # create the generator\n",
    "    generator = define_generator()\n",
    "    # create the gan\n",
    "    gan_model = define_gan(generator, discriminator)\n",
    "    c_i.append(generator.layers[-1].get_weights()[0][0])\n",
    "    s_i.append(generator.layers[-1].get_weights()[1][0])\n",
    "    # train model\n",
    "    train(generator, discriminator, gan_model)\n",
    "    c_f.append(generator.layers[-1].get_weights()[0][0])\n",
    "    s_f.append(generator.layers[-1].get_weights()[1][0])\n",
    "    print(\"c_i = \", c_i)\n",
    "    print(\"s_i = \", s_i)\n",
    "    print(\"c_f = \", c_f)\n",
    "    print(\"s_f = \", s_f)"
   ]
  },
  {
   "cell_type": "code",
   "execution_count": 16,
   "id": "bd189bcc-9c4d-4cba-b4b6-11c0de6873a0",
   "metadata": {},
   "outputs": [],
   "source": [
    "#iteration 1: initialise from -1 to 1\n",
    "\n",
    "c_i =  [0.39664435, 0.458709, -0.22965741, -0.2638278, -0.491894, 0.37392664, 0.6811907, 0.16978407, 0.2989707, 0.8544464]\n",
    "s_i =  [-0.8289206, 0.22158575, 0.93629813, -0.43840456, -0.8198559, -0.6863363, 0.84621143, 0.71589637, 0.8255298, 0.9892731]\n",
    "c_f =  [1.0292399, 0.992843, 0.9867333, 1.0032731, 0.9773908, 0.99762577, 1.0088152, 1.0093935, 0.9834299, 1.0013996]\n",
    "s_f =  [0.016028624, 0.00062434986, -0.017288588, -0.0057064625, -0.004087293, -0.0029808853, 0.0032415986, 0.0056419475, 0.0020722048, -0.0094225975]"
   ]
  },
  {
   "cell_type": "code",
   "execution_count": 20,
   "id": "52f466cb-7204-4027-82b9-953d90e38560",
   "metadata": {},
   "outputs": [
    {
     "data": {
      "text/plain": [
       "(-1.5, 1.5)"
      ]
     },
     "execution_count": 20,
     "metadata": {},
     "output_type": "execute_result"
    },
    {
     "data": {
      "image/png": "[encoded data removed]",
      "text/plain": [
       "<Figure size 432x288 with 1 Axes>"
      ]
     },
     "metadata": {
      "needs_background": "light"
     },
     "output_type": "display_data"
    }
   ],
   "source": [
    "plt.scatter(c_f, s_f)\n",
    "plt.xlim(-1.5, 1.5)\n",
    "plt.ylim(-1.5, 1.5)"
   ]
  },
  {
   "cell_type": "code",
   "execution_count": 21,
   "id": "9dd6cc83-7143-42d0-98ef-8d42da66edc8",
   "metadata": {},
   "outputs": [
    {
     "data": {
      "text/plain": [
       "(-1.5, 1.5)"
      ]
     },
     "execution_count": 21,
     "metadata": {},
     "output_type": "execute_result"
    },
    {
     "data": {
      "image/png": "[encoded data removed]",
      "text/plain": [
       "<Figure size 432x288 with 1 Axes>"
      ]
     },
     "metadata": {
      "needs_background": "light"
     },
     "output_type": "display_data"
    }
   ],
   "source": [
    "plt.scatter(c_i, c_f)\n",
    "plt.xlim(-1.5, 1.5)\n",
    "plt.ylim(-1.5, 1.5)"
   ]
  },
  {
   "cell_type": "code",
   "execution_count": 22,
   "id": "d77f62a9-a1da-49f9-82bf-4dd6a8d74d5e",
   "metadata": {},
   "outputs": [
    {
     "data": {
      "text/plain": [
       "(-1.5, 1.5)"
      ]
     },
     "execution_count": 22,
     "metadata": {},
     "output_type": "execute_result"
    },
    {
     "data": {
      "image/png": "[encoded data removed]",
      "text/plain": [
       "<Figure size 432x288 with 1 Axes>"
      ]
     },
     "metadata": {
      "needs_background": "light"
     },
     "output_type": "display_data"
    }
   ],
   "source": [
    "plt.scatter(s_i, s_f)\n",
    "plt.xlim(-1.5, 1.5)\n",
    "plt.ylim(-1.5, 1.5)"
   ]
  },
  {
   "cell_type": "code",
   "execution_count": 4,
   "id": "7959d24f-169f-44a7-8c7f-39e4a9145566",
   "metadata": {},
   "outputs": [],
   "source": [
    "#iteration 2: intitialise between -5, 5\n",
    "\n",
    "c_i =  [-0.83804035, -4.2538285, -3.1733716, -3.8310897, -3.5232306, -2.3977911, 0.116717815, -3.889525, -1.7862666, -0.43445826, 0.33724308, -4.288846, -3.226012, -2.1323252, 1.3624573, 1.5112553, -0.06984949, 1.8207731, 1.6108942, -3.4568799]\n",
    "s_i =  [0.89872456, 1.1266413, -3.266567, -0.5063915, 3.1260605, 2.767519, -3.3918571, -4.593854, 2.5199738, 1.0362625, -0.53618526, 1.2404013, 4.819191, 2.129662, -1.399852, 0.9083328, 3.6695538, 4.231079, 3.8968258, 1.5230799]\n",
    "c_f =  [1.0036044, 1.0007409, 0.99582726, 1.0199312, 0.9956506, 0.9947035, 0.992727, 0.9985673, 1.0219023, 1.0126413, 1.0193415, 1.0001831, 0.99015015, 0.9928091, 1.0352243, 1.0113003, 0.99292296, 0.992893, 1.0132127, 0.9957513]\n",
    "s_f =  [0.00036298367, -0.0076089553, -0.0042934255, -0.012885445, 0.0028351697, 0.010507201, -0.0035696314, -0.0013911161, 0.005534247, -0.014415936, -0.007973684, -0.014855251, -0.006028399, 0.0059796865, -0.0009861996, -0.0128137395, 0.00047326187, 0.00087074353, -0.0029815747, -0.0038051684]"
   ]
  },
  {
   "cell_type": "code",
   "execution_count": 5,
   "id": "69e02179-6f06-49e4-80fd-256ebc0cab19",
   "metadata": {},
   "outputs": [
    {
     "data": {
      "text/plain": [
       "(-1.5, 1.5)"
      ]
     },
     "execution_count": 5,
     "metadata": {},
     "output_type": "execute_result"
    },
    {
     "data": {
      "image/png": "[encoded data removed]",
      "text/plain": [
       "<Figure size 432x288 with 1 Axes>"
      ]
     },
     "metadata": {
      "needs_background": "light"
     },
     "output_type": "display_data"
    }
   ],
   "source": [
    "plt.scatter(c_f, s_f)\n",
    "plt.xlim(-1.5, 1.5)\n",
    "plt.ylim(-1.5, 1.5)"
   ]
  },
  {
   "cell_type": "code",
   "execution_count": null,
   "id": "3f829b04-68fa-440d-8e69-f2bf073c2f00",
   "metadata": {},
   "outputs": [],
   "source": []
  },
  {
   "cell_type": "code",
   "execution_count": null,
   "id": "197027f5-0a31-4c53-8b86-10501595c726",
   "metadata": {},
   "outputs": [],
   "source": []
  },
  {
   "cell_type": "code",
   "execution_count": 2,
   "id": "8700f075-0953-4673-a25e-997176fcb134",
   "metadata": {},
   "outputs": [],
   "source": [
    "import numpy as np\n",
    "import scipy.stats as sp\n",
    "import matplotlib.pyplot as plt\n",
    "from mpl_toolkits.mplot3d import Axes3D\n",
    "from matplotlib import cm, ticker\n",
    "%matplotlib inline"
   ]
  },
  {
   "cell_type": "code",
   "execution_count": 4,
   "id": "cb2fe6b9-2dd8-4e08-b82f-62bb91ef6b3a",
   "metadata": {},
   "outputs": [],
   "source": [
    "def p(x,mu,sigma):\n",
    "    return sp.multivariate_normal.pdf(x, mean=mu, cov=sigma)\n",
    "\n",
    "def g(n, c, s, x):\n",
    "    r = np.array([[c, s], [-s, c]])\n",
    "    return np.matmul(x, np.linalg.matrix_power(r, n))\n",
    "\n",
    "mu = np.array([0, 0])\n",
    "sigma = np.array([[1, 0], [0, 1]])\n",
    "\n",
    "def h(c, s, x):\n",
    "    r = np.array([[c, s], [-s, c]])\n",
    "    p0 = p(x, mu, sigma)\n",
    "    p1 = p(x, np.matmul(mu, r), np.matmul(np.transpose(r), np.matmul(sigma, r)))\n",
    "    return p0/(p0 + p1)\n",
    "    #return p(x,0.5,1)/(p(x,0.5,1) + abs(c)*p(a+c*x,0.5,1))"
   ]
  },
  {
   "cell_type": "code",
   "execution_count": 14,
   "id": "cb465875-77a7-4660-814a-4c3a6f593588",
   "metadata": {},
   "outputs": [],
   "source": [
    "N = 10**4\n",
    "generator = np.random.default_rng()\n",
    "xx = generator.multivariate_normal(mu, sigma, N)\n",
    "C = 0\n",
    "S = 0\n",
    "range = 1.2\n",
    "clow = C-range\n",
    "chigh = C+range\n",
    "step = 50\n",
    "slow = S - range\n",
    "shigh = S + range\n",
    "alpha = 0.00\n",
    "e = 10**-7\n",
    "\n",
    "mylosses= np.zeros((step, step))\n",
    "i = 0\n",
    "for s in np.linspace(slow,shigh,step):\n",
    "    losses = np.zeros(step)\n",
    "    j = 0\n",
    "    for c in np.linspace(clow, chigh, step):\n",
    "        yy = np.array(g(1, c, s, xx))\n",
    "        losses[j] = np.mean(-np.log(e+h(c,s, xx)) - np.log(e+1.-h(c, s, yy))\n",
    "                            - alpha*np.linalg.norm((g(7, c, s, xx)-xx))**2\n",
    "                           )\n",
    "        j += 1\n",
    "    mylosses[i] = losses\n",
    "    i += 1"
   ]
  },
  {
   "cell_type": "code",
   "execution_count": 15,
   "id": "d96cc69e-c626-435f-a073-b21b1e797b7e",
   "metadata": {},
   "outputs": [
    {
     "data": {
      "image/png": "[encoded data removed]",
      "text/plain": [
       "<Figure size 432x432 with 2 Axes>"
      ]
     },
     "metadata": {
      "needs_background": "light"
     },
     "output_type": "display_data"
    }
   ],
   "source": [
    "x = np.linspace(clow, chigh, step)\n",
    "y = np.linspace(slow, shigh, step)\n",
    "X,Y = np.meshgrid(x,y)\n",
    "Z = np.array(mylosses)\n",
    "\n",
    "\n",
    "fig, ax = plt.subplots(figsize=(6,6))\n",
    "\n",
    "\n",
    "ax.set_aspect('equal')\n",
    "ax.set_xlabel('c')\n",
    "ax.set_ylabel('s')\n",
    "cf = ax.contourf(X,Y,Z,25, cmap='Spectral')\n",
    "fig.colorbar(cf, ax=ax)\n",
    "plt.title('Loss')\n",
    "#circ = plt.Circle((0, 0), radius=1, edgecolor='r', facecolor='None')\n",
    "#ax.add_patch(circ)\n",
    "\n",
    "plt.show()"
   ]
  },
  {
   "cell_type": "code",
   "execution_count": null,
   "id": "6443d49f-cc8e-49bf-8ab2-9edb52da83ef",
   "metadata": {},
   "outputs": [],
   "source": []
  },
  {
   "cell_type": "code",
   "execution_count": null,
   "id": "6ccc8d80-b2ca-4afa-8a5e-63a5b690ad04",
   "metadata": {},
   "outputs": [],
   "source": []
  }
 ],
 "metadata": {
  "kernelspec": {
   "display_name": "tensorflow-v2.2.0-gpu",
   "language": "python",
   "name": "tensorflow_gpu_2.2.0-py37"
  },
  "language_info": {
   "codemirror_mode": {
    "name": "ipython",
    "version": 3
   },
   "file_extension": ".py",
   "mimetype": "text/x-python",
   "name": "python",
   "nbconvert_exporter": "python",
   "pygments_lexer": "ipython3",
   "version": "3.7.4"
  }
 },
 "nbformat": 4,
 "nbformat_minor": 5
}
