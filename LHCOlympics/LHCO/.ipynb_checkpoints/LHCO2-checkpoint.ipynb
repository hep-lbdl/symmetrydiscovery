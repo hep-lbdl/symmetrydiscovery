{
 "cells": [
  {
   "cell_type": "code",
   "execution_count": 19,
   "id": "98de3e28",
   "metadata": {
    "tags": []
   },
   "outputs": [],
   "source": [
    "import numpy as np\n",
    "from sklearn.linear_model import LinearRegression\n",
    "import matplotlib.pyplot as plt\n",
    "from mpl_toolkits import mplot3d\n",
    "\n",
    "import tensorflow as tf\n",
    "import tensorflow.keras\n",
    "import tensorflow.keras.backend as K\n",
    "from tensorflow.keras.layers import Dense, Input, Dropout, Concatenate\n",
    "from tensorflow.keras.models import Model\n",
    "from tensorflow.keras.utils import to_categorical\n",
    "from tensorflow.keras.callbacks import EarlyStopping\n",
    "from tensorflow.keras.layers import Lambda, Layer\n",
    "from tensorflow.keras.models import Sequential\n",
    "import pandas as pd"
   ]
  },
  {
   "cell_type": "code",
   "execution_count": 20,
   "id": "ff9125dd",
   "metadata": {},
   "outputs": [],
   "source": [
    "f = pd.read_hdf(\"events_anomalydetection_DelphesPythia8_v2_qcd_features.h5\")\n"
   ]
  },
  {
   "cell_type": "code",
   "execution_count": 3,
   "id": "5f7fc61d",
   "metadata": {},
   "outputs": [],
   "source": [
    "G = (f[['pxj1','pxj2', 'pyj1', 'pyj2']]).to_numpy()\n",
    "px1 = G[:, 0]\n",
    "py1 = G[:, 2]\n",
    "px2 = G[:, 1]\n",
    "py2 = G[:, 3]"
   ]
  },
  {
   "cell_type": "code",
   "execution_count": 46,
   "id": "1399d24e",
   "metadata": {},
   "outputs": [],
   "source": [
    "class MyLayer(Layer):\n",
    "\n",
    "    def __init__(self, **kwargs):\n",
    "        super(MyLayer, self).__init__(**kwargs)\n",
    "\n",
    "    def build(self, input_shape):\n",
    "        # Create a trainable weight variable for this layer.\n",
    "        self._t1 = self.add_weight(name='x', \n",
    "                                    shape=(1,),\n",
    "                                    initializer=tf.keras.initializers.RandomUniform(minval= 0, maxval=2*np.pi), #'uniform',\n",
    "                                    trainable=True)\n",
    "        self._t2 = self.add_weight(name='x', \n",
    "                                    shape=(1,),\n",
    "                                    initializer=tf.keras.initializers.RandomUniform(minval=0, maxval=2*np.pi), #'uniform',\n",
    "                                    trainable=True)\n",
    "        self._t3 = self.add_weight(name='x', \n",
    "                                    shape=(1,),\n",
    "                                    initializer=tf.keras.initializers.RandomUniform(minval=0, maxval=2*np.pi), #'uniform',\n",
    "                                    trainable=True)\n",
    "        self._t4 = self.add_weight(name='x', \n",
    "                                    shape=(1,),\n",
    "                                    initializer=tf.keras.initializers.RandomUniform(minval=0, maxval=2*np.pi), #'uniform',\n",
    "                                    trainable=True)\n",
    "        self._t5 = self.add_weight(name='x', \n",
    "                                    shape=(1,),\n",
    "                                    initializer=tf.keras.initializers.RandomUniform(minval=0, maxval=2*np.pi), #'uniform',\n",
    "                                    trainable=True)\n",
    "        self._t6 = self.add_weight(name='x', \n",
    "                                    shape=(1,),\n",
    "                                    initializer=tf.keras.initializers.RandomUniform(minval=0, maxval=2*np.pi), #'uniform',\n",
    "                                    trainable=True)\n",
    "        super(MyLayer, self).build(input_shape)  # Be sure to call this at the end\n",
    "\n",
    "    def call(self, X):\n",
    "        s1 = tf.math.sin(self._t1)\n",
    "        c1 = tf.math.cos(self._t1)\n",
    "        s2 = tf.math.sin(self._t2)\n",
    "        c2 = tf.math.cos(self._t2)\n",
    "        s3 = tf.math.sin(self._t3)\n",
    "        c3 = tf.math.cos(self._t3)\n",
    "        s4 = tf.math.sin(self._t4)\n",
    "        c4 = tf.math.cos(self._t4)\n",
    "        s5 = tf.math.sin(self._t5)\n",
    "        c5 = tf.math.cos(self._t5)\n",
    "        s6 = tf.math.sin(self._t6)\n",
    "        c6 = tf.math.cos(self._t6)\n",
    "        R1 = np.array([[c1, s1, 0.0, 0.0], [-1.0*s1, c1, 0.0, 0.0], [0.0, 0.0, 1.0, 0.0], [0.0, 0.0, 0.0, 1.0]]) #px1 -> py1     \n",
    "        R2 = np.array([[c2, 0.0, s2, 0.0], [0.0, 1.0, 0.0, 0.0], [-1.0*s2, 0.0, c2, 0.0], [0.0, 0.0, 0.0, 1.0]]) #px1 -> px2\n",
    "        R3 = np.array([[c3, 0.0, 0.0, s3], [0.0, 1.0, 0.0, 0.0], [0.0, 0.0, 1.0, 0.0], [-1.0*s3, 0.0, 0.0, c3]]) #px1 -> py2\n",
    "        R4 = np.array([[1.0, 0.0, 0.0, 0.0], [0.0, c4, s4, 0.0], [0.0, -1.0*s4, c4, 0.0], [0.0, 0.0, 0.0, 1.0]]) #px2 -> py1\n",
    "        R5 = np.array([[1.0, 0.0, 0.0, 0.0], [0.0, c5, 0.0, s5], [0.0, 0.0, 1.0, 0.0], [0.0, -1.0*s5, 0.0, c5]]) #px2 -> py1\n",
    "        R6 = np.array([[1.0, 0.0, 0.0, 0.0], [0.0, 1.0, 0.0, 0.0], [0.0, 0.0, c6, s6], [0.0, 0.0, -1.0*s6, c6]]) #py1 -> py2\n",
    "        S = tf.linalg.matmul(R1, tf.linalg.matmul(R2, (tf.linalg.matmul(R3, tf.linalg.matmul(R4, tf.linalg.matmul(R5, R6))))))\n",
    "        #S = R1 @ R2 @ R3 @ R4 @ R5 @ R6\n",
    "        M = tf.convert_to_tensor(S)\n",
    "        M = tf.reshape(M, [4, 4])\n",
    "        return tf.linalg.matmul(X, M)"
   ]
  },
  {
   "cell_type": "code",
   "execution_count": 47,
   "id": "5dde805b",
   "metadata": {},
   "outputs": [],
   "source": [
    "def define_discriminator(n_inputs=4):\n",
    "\tmodel = Sequential()\n",
    "\tmodel.add(Dense(25, activation='relu', input_dim=n_inputs))\n",
    "\tmodel.add(Dense(25, activation='relu', input_dim=n_inputs))    \n",
    "\tmodel.add(Dense(1, activation='sigmoid'))\n",
    "\t# compile model\n",
    "\tmodel.compile(loss='binary_crossentropy', optimizer='adam', metrics=['accuracy'])\n",
    "\treturn model\n",
    " \n",
    "# define the standalone generator model\n",
    "def define_generator(n_outputs=1):\n",
    "\t#model = Sequential()\n",
    "\t#model.add(Dense(15, activation='relu', input_dim=n_outputs))\n",
    "\t#model.add(Dense(15, activation='relu', input_dim=n_outputs))    \n",
    "\t#model.add(Dense(n_outputs, activation='linear'))\n",
    "\n",
    "\tmymodel_inputtest = Input(shape=(4,))\n",
    "\tmymodel_test = MyLayer()(mymodel_inputtest)\n",
    "\tmodel = Model(mymodel_inputtest, mymodel_test)\n",
    "\treturn model\n",
    " \n",
    "# define the combined generator and discriminator model, for updating the generator\n",
    "def define_gan(generator, discriminator):\n",
    "\t# make weights in the discriminator not trainable\n",
    "\tdiscriminator.trainable = False\n",
    "\t# connect them\n",
    "\tmodel = Sequential()\n",
    "\t# add generator\n",
    "\tmodel.add(generator)\n",
    "\t# add the discriminator\n",
    "\tmodel.add(discriminator)\n",
    "\t# compile model\n",
    "\tmodel.compile(loss='binary_crossentropy', optimizer='adam')\n",
    "\treturn model\n",
    " \n",
    "# generate n real samples with class labels\n",
    "def generate_real_samples(n):\n",
    "\trandomlySelectedY = np.argsort(np.random.random(len(px1)))[:n]\n",
    "\tX = tf.convert_to_tensor([px1[randomlySelectedY], py1[randomlySelectedY], px2[randomlySelectedY], py2[randomlySelectedY]])\n",
    "\ty = np.ones((n, 1))\n",
    "\treturn np.transpose(X), y\n",
    " \n",
    "# generate points in latent space as input for the generator\n",
    "def generate_latent_points(n):\n",
    "\t# generate points in the latent space\n",
    "\tx_input = generate_real_samples(n)\n",
    "\treturn x_input[0]\n",
    " \n",
    "# use the generator to generate n fake examples, with class labels\n",
    "def generate_fake_samples(generator, n):\n",
    "\t# generate points in latent space\n",
    "\tx_input = generate_latent_points(n)\n",
    "\t# predict outputs\n",
    "\tX = generator.predict(x_input)\n",
    "\t# create class labels\n",
    "\ty = np.zeros((n, 1))\n",
    "\treturn X, y\n",
    "\n",
    "def generate_fake_samples_with_input(generator, n):\n",
    "\t# generate points in latent space\n",
    "\tx_input = generate_latent_points(n)\n",
    "\t# predict outputs\n",
    "\tX = generator.predict(x_input)\n",
    "\t# create class labels\n",
    "\ty = np.zeros((n, 1))\n",
    "\treturn X, y, x_input\n",
    "\n",
    "k = 400\n",
    " \n",
    "# train the generator and discriminator\n",
    "def train(g_model, d_model, gan_model, n_epochs=5*k, n_batch=128, n_eval=k):\n",
    "\t# determine half the size of one batch, for updating the discriminator\n",
    "\thalf_batch = int(n_batch / 2)\n",
    "\t# manually enumerate epochs\n",
    "\tfor i in range(n_epochs):\n",
    "\t\t# prepare real samples\n",
    "\t\tx_real, y_real = generate_real_samples(half_batch)\n",
    "\t\t# prepare fake examples\n",
    "\t\tx_fake, y_fake = generate_fake_samples(g_model, half_batch)\n",
    "\t\t# update discriminator\n",
    "\t\td_model.train_on_batch(x_real, y_real)\n",
    "\t\td_model.train_on_batch(x_fake, y_fake)\n",
    "\t\t# prepare points in latent space as input for the generator\n",
    "\t\tx_gan = generate_latent_points(n_batch)\n",
    "\t\t# create inverted labels for the fake samples\n",
    "\t\ty_gan = np.ones((n_batch, 1))\n",
    "\t\t# update the generator via the discriminator's error\n",
    "\t\tgan_model.train_on_batch(x_gan, y_gan)\n",
    "\t\tif (i+1) % n_eval == 0:\n",
    "\t\t\tprint(\"epoch = \", i)"
   ]
  },
  {
   "cell_type": "code",
   "execution_count": 48,
   "id": "4ff8b4a2",
   "metadata": {},
   "outputs": [
    {
     "name": "stdout",
     "output_type": "stream",
     "text": [
      "j =  0\n"
     ]
    },
    {
     "ename": "TypeError",
     "evalue": "in user code:\n\n    <ipython-input-46-7cfff90626b6>:53 call  *\n        S = tf.linalg.matmul(R1, tf.linalg.matmul(R2, (tf.linalg.matmul(R3, tf.linalg.matmul(R4, tf.linalg.matmul(R5, R6))))))\n    /usr/common/software/tensorflow/gpu-tensorflow/2.2.0-py37/lib/python3.7/site-packages/tensorflow/python/util/dispatch.py:180 wrapper  **\n        return target(*args, **kwargs)\n    /usr/common/software/tensorflow/gpu-tensorflow/2.2.0-py37/lib/python3.7/site-packages/tensorflow/python/ops/math_ops.py:2924 matmul\n        a = ops.convert_to_tensor(a, name=\"a\")\n    /usr/common/software/tensorflow/gpu-tensorflow/2.2.0-py37/lib/python3.7/site-packages/tensorflow/python/framework/ops.py:1341 convert_to_tensor\n        ret = conversion_func(value, dtype=dtype, name=name, as_ref=as_ref)\n    /usr/common/software/tensorflow/gpu-tensorflow/2.2.0-py37/lib/python3.7/site-packages/tensorflow/python/framework/tensor_conversion_registry.py:52 _default_conversion_function\n        return constant_op.constant(value, dtype, name=name)\n    /usr/common/software/tensorflow/gpu-tensorflow/2.2.0-py37/lib/python3.7/site-packages/tensorflow/python/framework/constant_op.py:262 constant\n        allow_broadcast=True)\n    /usr/common/software/tensorflow/gpu-tensorflow/2.2.0-py37/lib/python3.7/site-packages/tensorflow/python/framework/constant_op.py:300 _constant_impl\n        allow_broadcast=allow_broadcast))\n    /usr/common/software/tensorflow/gpu-tensorflow/2.2.0-py37/lib/python3.7/site-packages/tensorflow/python/framework/tensor_util.py:558 make_tensor_proto\n        append_fn(tensor_proto, proto_values)\n    tensorflow/python/framework/fast_tensor_util.pyx:127 tensorflow.python.framework.fast_tensor_util.AppendObjectArrayToTensorProto\n        \n    /usr/common/software/tensorflow/gpu-tensorflow/2.2.0-py37/lib/python3.7/site-packages/tensorflow/python/util/compat.py:87 as_bytes\n        (bytes_or_text,))\n\n    TypeError: Expected binary or unicode string, got 1.0\n",
     "output_type": "error",
     "traceback": [
      "\u001b[0;31m---------------------------------------------------------------------------\u001b[0m",
      "\u001b[0;31mTypeError\u001b[0m                                 Traceback (most recent call last)",
      "\u001b[0;32m<ipython-input-48-6def2836834f>\u001b[0m in \u001b[0;36m<module>\u001b[0;34m\u001b[0m\n\u001b[1;32m     17\u001b[0m     \u001b[0mdiscriminator\u001b[0m \u001b[0;34m=\u001b[0m \u001b[0mdefine_discriminator\u001b[0m\u001b[0;34m(\u001b[0m\u001b[0;34m)\u001b[0m\u001b[0;34m\u001b[0m\u001b[0;34m\u001b[0m\u001b[0m\n\u001b[1;32m     18\u001b[0m     \u001b[0;31m# create the generator\u001b[0m\u001b[0;34m\u001b[0m\u001b[0;34m\u001b[0m\u001b[0;34m\u001b[0m\u001b[0m\n\u001b[0;32m---> 19\u001b[0;31m     \u001b[0mgenerator\u001b[0m \u001b[0;34m=\u001b[0m \u001b[0mdefine_generator\u001b[0m\u001b[0;34m(\u001b[0m\u001b[0;34m)\u001b[0m\u001b[0;34m\u001b[0m\u001b[0;34m\u001b[0m\u001b[0m\n\u001b[0m\u001b[1;32m     20\u001b[0m     \u001b[0;31m# create the gan\u001b[0m\u001b[0;34m\u001b[0m\u001b[0;34m\u001b[0m\u001b[0;34m\u001b[0m\u001b[0m\n\u001b[1;32m     21\u001b[0m     \u001b[0mgan_model\u001b[0m \u001b[0;34m=\u001b[0m \u001b[0mdefine_gan\u001b[0m\u001b[0;34m(\u001b[0m\u001b[0mgenerator\u001b[0m\u001b[0;34m,\u001b[0m \u001b[0mdiscriminator\u001b[0m\u001b[0;34m)\u001b[0m\u001b[0;34m\u001b[0m\u001b[0;34m\u001b[0m\u001b[0m\n",
      "\u001b[0;32m<ipython-input-47-bb0e0ae0f9e1>\u001b[0m in \u001b[0;36mdefine_generator\u001b[0;34m(n_outputs)\u001b[0m\n\u001b[1;32m     16\u001b[0m \u001b[0;34m\u001b[0m\u001b[0m\n\u001b[1;32m     17\u001b[0m         \u001b[0mmymodel_inputtest\u001b[0m \u001b[0;34m=\u001b[0m \u001b[0mInput\u001b[0m\u001b[0;34m(\u001b[0m\u001b[0mshape\u001b[0m\u001b[0;34m=\u001b[0m\u001b[0;34m(\u001b[0m\u001b[0;36m4\u001b[0m\u001b[0;34m,\u001b[0m\u001b[0;34m)\u001b[0m\u001b[0;34m)\u001b[0m\u001b[0;34m\u001b[0m\u001b[0;34m\u001b[0m\u001b[0m\n\u001b[0;32m---> 18\u001b[0;31m         \u001b[0mmymodel_test\u001b[0m \u001b[0;34m=\u001b[0m \u001b[0mMyLayer\u001b[0m\u001b[0;34m(\u001b[0m\u001b[0;34m)\u001b[0m\u001b[0;34m(\u001b[0m\u001b[0mmymodel_inputtest\u001b[0m\u001b[0;34m)\u001b[0m\u001b[0;34m\u001b[0m\u001b[0;34m\u001b[0m\u001b[0m\n\u001b[0m\u001b[1;32m     19\u001b[0m         \u001b[0mmodel\u001b[0m \u001b[0;34m=\u001b[0m \u001b[0mModel\u001b[0m\u001b[0;34m(\u001b[0m\u001b[0mmymodel_inputtest\u001b[0m\u001b[0;34m,\u001b[0m \u001b[0mmymodel_test\u001b[0m\u001b[0;34m)\u001b[0m\u001b[0;34m\u001b[0m\u001b[0;34m\u001b[0m\u001b[0m\n\u001b[1;32m     20\u001b[0m         \u001b[0;32mreturn\u001b[0m \u001b[0mmodel\u001b[0m\u001b[0;34m\u001b[0m\u001b[0;34m\u001b[0m\u001b[0m\n",
      "\u001b[0;32m/usr/common/software/tensorflow/gpu-tensorflow/2.2.0-py37/lib/python3.7/site-packages/tensorflow/python/keras/engine/base_layer.py\u001b[0m in \u001b[0;36m__call__\u001b[0;34m(self, *args, **kwargs)\u001b[0m\n\u001b[1;32m    920\u001b[0m                     not base_layer_utils.is_in_eager_or_tf_function()):\n\u001b[1;32m    921\u001b[0m                   \u001b[0;32mwith\u001b[0m \u001b[0mauto_control_deps\u001b[0m\u001b[0;34m.\u001b[0m\u001b[0mAutomaticControlDependencies\u001b[0m\u001b[0;34m(\u001b[0m\u001b[0;34m)\u001b[0m \u001b[0;32mas\u001b[0m \u001b[0macd\u001b[0m\u001b[0;34m:\u001b[0m\u001b[0;34m\u001b[0m\u001b[0;34m\u001b[0m\u001b[0m\n\u001b[0;32m--> 922\u001b[0;31m                     \u001b[0moutputs\u001b[0m \u001b[0;34m=\u001b[0m \u001b[0mcall_fn\u001b[0m\u001b[0;34m(\u001b[0m\u001b[0mcast_inputs\u001b[0m\u001b[0;34m,\u001b[0m \u001b[0;34m*\u001b[0m\u001b[0margs\u001b[0m\u001b[0;34m,\u001b[0m \u001b[0;34m**\u001b[0m\u001b[0mkwargs\u001b[0m\u001b[0;34m)\u001b[0m\u001b[0;34m\u001b[0m\u001b[0;34m\u001b[0m\u001b[0m\n\u001b[0m\u001b[1;32m    923\u001b[0m                     \u001b[0;31m# Wrap Tensors in `outputs` in `tf.identity` to avoid\u001b[0m\u001b[0;34m\u001b[0m\u001b[0;34m\u001b[0m\u001b[0;34m\u001b[0m\u001b[0m\n\u001b[1;32m    924\u001b[0m                     \u001b[0;31m# circular dependencies.\u001b[0m\u001b[0;34m\u001b[0m\u001b[0;34m\u001b[0m\u001b[0;34m\u001b[0m\u001b[0m\n",
      "\u001b[0;32m/usr/common/software/tensorflow/gpu-tensorflow/2.2.0-py37/lib/python3.7/site-packages/tensorflow/python/autograph/impl/api.py\u001b[0m in \u001b[0;36mwrapper\u001b[0;34m(*args, **kwargs)\u001b[0m\n\u001b[1;32m    263\u001b[0m       \u001b[0;32mexcept\u001b[0m \u001b[0mException\u001b[0m \u001b[0;32mas\u001b[0m \u001b[0me\u001b[0m\u001b[0;34m:\u001b[0m  \u001b[0;31m# pylint:disable=broad-except\u001b[0m\u001b[0;34m\u001b[0m\u001b[0;34m\u001b[0m\u001b[0m\n\u001b[1;32m    264\u001b[0m         \u001b[0;32mif\u001b[0m \u001b[0mhasattr\u001b[0m\u001b[0;34m(\u001b[0m\u001b[0me\u001b[0m\u001b[0;34m,\u001b[0m \u001b[0;34m'ag_error_metadata'\u001b[0m\u001b[0;34m)\u001b[0m\u001b[0;34m:\u001b[0m\u001b[0;34m\u001b[0m\u001b[0;34m\u001b[0m\u001b[0m\n\u001b[0;32m--> 265\u001b[0;31m           \u001b[0;32mraise\u001b[0m \u001b[0me\u001b[0m\u001b[0;34m.\u001b[0m\u001b[0mag_error_metadata\u001b[0m\u001b[0;34m.\u001b[0m\u001b[0mto_exception\u001b[0m\u001b[0;34m(\u001b[0m\u001b[0me\u001b[0m\u001b[0;34m)\u001b[0m\u001b[0;34m\u001b[0m\u001b[0;34m\u001b[0m\u001b[0m\n\u001b[0m\u001b[1;32m    266\u001b[0m         \u001b[0;32melse\u001b[0m\u001b[0;34m:\u001b[0m\u001b[0;34m\u001b[0m\u001b[0;34m\u001b[0m\u001b[0m\n\u001b[1;32m    267\u001b[0m           \u001b[0;32mraise\u001b[0m\u001b[0;34m\u001b[0m\u001b[0;34m\u001b[0m\u001b[0m\n",
      "\u001b[0;31mTypeError\u001b[0m: in user code:\n\n    <ipython-input-46-7cfff90626b6>:53 call  *\n        S = tf.linalg.matmul(R1, tf.linalg.matmul(R2, (tf.linalg.matmul(R3, tf.linalg.matmul(R4, tf.linalg.matmul(R5, R6))))))\n    /usr/common/software/tensorflow/gpu-tensorflow/2.2.0-py37/lib/python3.7/site-packages/tensorflow/python/util/dispatch.py:180 wrapper  **\n        return target(*args, **kwargs)\n    /usr/common/software/tensorflow/gpu-tensorflow/2.2.0-py37/lib/python3.7/site-packages/tensorflow/python/ops/math_ops.py:2924 matmul\n        a = ops.convert_to_tensor(a, name=\"a\")\n    /usr/common/software/tensorflow/gpu-tensorflow/2.2.0-py37/lib/python3.7/site-packages/tensorflow/python/framework/ops.py:1341 convert_to_tensor\n        ret = conversion_func(value, dtype=dtype, name=name, as_ref=as_ref)\n    /usr/common/software/tensorflow/gpu-tensorflow/2.2.0-py37/lib/python3.7/site-packages/tensorflow/python/framework/tensor_conversion_registry.py:52 _default_conversion_function\n        return constant_op.constant(value, dtype, name=name)\n    /usr/common/software/tensorflow/gpu-tensorflow/2.2.0-py37/lib/python3.7/site-packages/tensorflow/python/framework/constant_op.py:262 constant\n        allow_broadcast=True)\n    /usr/common/software/tensorflow/gpu-tensorflow/2.2.0-py37/lib/python3.7/site-packages/tensorflow/python/framework/constant_op.py:300 _constant_impl\n        allow_broadcast=allow_broadcast))\n    /usr/common/software/tensorflow/gpu-tensorflow/2.2.0-py37/lib/python3.7/site-packages/tensorflow/python/framework/tensor_util.py:558 make_tensor_proto\n        append_fn(tensor_proto, proto_values)\n    tensorflow/python/framework/fast_tensor_util.pyx:127 tensorflow.python.framework.fast_tensor_util.AppendObjectArrayToTensorProto\n        \n    /usr/common/software/tensorflow/gpu-tensorflow/2.2.0-py37/lib/python3.7/site-packages/tensorflow/python/util/compat.py:87 as_bytes\n        (bytes_or_text,))\n\n    TypeError: Expected binary or unicode string, got 1.0\n"
     ]
    }
   ],
   "source": [
    "N = 1\n",
    "t1i = []\n",
    "t1f = []\n",
    "t2i = []\n",
    "t2f = []\n",
    "t3i = []\n",
    "t3f = []\n",
    "t4i = []\n",
    "t4f = []\n",
    "t5i = []\n",
    "t5f = []\n",
    "t6i = []\n",
    "t6f = []\n",
    "for j in range(N):\n",
    "    print(\"j = \", j)\n",
    "    # create the discriminator\n",
    "    discriminator = define_discriminator()\n",
    "    # create the generator\n",
    "    generator = define_generator()\n",
    "    # create the gan\n",
    "    gan_model = define_gan(generator, discriminator)\n",
    "    t1i.append(generator.layers[-1].get_weights()[0][0])\n",
    "    t2i.append(generator.layers[-1].get_weights()[1][0])\n",
    "    t3i.append(generator.layers[-1].get_weights()[2][0])\n",
    "    t4i.append(generator.layers[-1].get_weights()[3][0])\n",
    "    t5i.append(generator.layers[-1].get_weights()[4][0])\n",
    "    t6i.append(generator.layers[-1].get_weights()[5][0])\n",
    "\n",
    "    # train model\n",
    "    train(generator, discriminator, gan_model)\n",
    "    t1f.append(generator.layers[-1].get_weights()[0][0])\n",
    "    t2f.append(generator.layers[-1].get_weights()[1][0])\n",
    "    t3f.append(generator.layers[-1].get_weights()[2][0])\n",
    "    t4f.append(generator.layers[-1].get_weights()[3][0])\n",
    "    t5f.append(generator.layers[-1].get_weights()[4][0])\n",
    "    t6f.append(generator.layers[-1].get_weights()[5][0])\n",
    "    print(\"t1i = \", t1i)\n",
    "    print(\"t2i = \", t2i)\n",
    "    print(\"t1f = \", t1f)\n",
    "    print(\"t2f = \", t2f)\n",
    "    print(\"t1i = \", t3i)\n",
    "    print(\"t2i = \", t4i)\n",
    "    print(\"t1f = \", t3f)\n",
    "    print(\"t2f = \", t4f)\n",
    "    print(\"t1i = \", t5i)\n",
    "    print(\"t2i = \", t6i)\n",
    "    print(\"t1f = \", t5f)\n",
    "    print(\"t2f = \", t6f)\n"
   ]
  },
  {
   "cell_type": "code",
   "execution_count": 3,
   "id": "d95f3acd",
   "metadata": {},
   "outputs": [],
   "source": [
    "t1i =  np.array([5.162122, 6.2206173, 4.934609, 0.6163157, 1.442828, 6.2312565, 1.2068481, 2.018262, 2.3963897, 0.7352869, 3.7936237, 3.6529634, 2.9664583, 3.5618114, 4.455623, 3.2728987, 2.0271332, 0.109409235, 2.1624522, 1.3508049, 5.009081, 2.3859603])\n",
    "t2i =  np.array([4.997315, 4.7506557, 4.2162385, 5.932468, 3.0339265, 3.2679799, 1.1853163, 2.5642946, 6.264523, 5.247177, 5.6830273, 1.4497032, 3.0296278, 2.597249, 3.3082035, 3.319494, 5.489835, 5.5369062, 3.4229622, 1.342413, 2.391984, 0.9666386])\n",
    "t1f =  np.array([5.083323, 5.480059, 4.57287, 0.13375182, 2.2433054, 7.8698764-2*np.pi, 1.1820827, 2.2881777, 4.286601, -0.1568271, 4.7377267, 2.5517285, 2.9923916, 3.0797484, 3.8738916, 3.299803, 0.62937486, -0.32129812, 2.7940948, 1.3299236, 3.7012382, 1.6772867])\n",
    "t2f =  np.array([5.0830398, 5.490116, 4.5797396, 6.422169, 2.2331161, 1.595514, 1.18863, 2.2899723, 4.372189, 6.13952, 4.7359576, 2.5535016, 2.9855852, 3.0799363, 3.8851366, 3.29192, 6.8992066, 5.967001, 2.7875383, 1.3432192, 3.7002063, 1.6746137])"
   ]
  },
  {
   "cell_type": "code",
   "execution_count": 4,
   "id": "4163fe38",
   "metadata": {},
   "outputs": [
    {
     "data": {
      "image/png": "[encoded data removed]",
      "text/plain": [
       "<Figure size 432x288 with 1 Axes>"
      ]
     },
     "metadata": {
      "needs_background": "light"
     },
     "output_type": "display_data"
    }
   ],
   "source": [
    "plt.rc('font', size=15)\n",
    "plt.scatter(t1f % (2*np.pi), t2f % (2*np.pi), color='r', label=\"data points\")\n",
    "plt.xlabel(r\"$\\theta_1$\")\n",
    "plt.ylabel(r\"$\\theta_2$\")\n",
    "plt.plot(np.linspace(0,2*np.pi), np.linspace(0,2*np.pi), label = r\"$\\theta_1 = \\theta_2$\")\n",
    "plt.legend()\n",
    "plt.title(\"LHC Olympics dijet data\")\n",
    "plt.savefig(\"LHCO.pdf\", bbox_inches='tight')"
   ]
  },
  {
   "cell_type": "code",
   "execution_count": 19,
   "id": "ea45dfb0",
   "metadata": {},
   "outputs": [
    {
     "data": {
      "image/png": "[encoded data removed]",
      "text/plain": [
       "<Figure size 640x480 with 1 Axes>"
      ]
     },
     "metadata": {},
     "output_type": "display_data"
    }
   ],
   "source": [
    "plt.scatter(t1i, t1f)\n",
    "plt.show()"
   ]
  },
  {
   "cell_type": "code",
   "execution_count": 21,
   "id": "62d8c3eb",
   "metadata": {},
   "outputs": [
    {
     "data": {
      "image/png": "[encoded data removed]",
      "text/plain": [
       "<Figure size 640x480 with 1 Axes>"
      ]
     },
     "metadata": {},
     "output_type": "display_data"
    }
   ],
   "source": [
    "plt.scatter(t2i, t2f)\n",
    "plt.show()"
   ]
  },
  {
   "cell_type": "code",
   "execution_count": 5,
   "id": "d617aa51",
   "metadata": {},
   "outputs": [
    {
     "data": {
      "image/png": "[encoded data removed]",
      "text/plain": [
       "<Figure size 504x360 with 1 Axes>"
      ]
     },
     "metadata": {
      "needs_background": "light"
     },
     "output_type": "display_data"
    }
   ],
   "source": [
    "plt.rc('font', size=15)\n",
    "fig, ax = plt.subplots(figsize=(7,5))\n",
    "plt.scatter((t1i + t2i)/2 , t1f, color='r', label='data points')\n",
    "plt.xlabel(r\"$\\frac{\\theta_{1i} + \\theta_{2i}}{2}$\")\n",
    "plt.ylabel(r\"$\\theta_f$\")\n",
    "plt.plot(np.linspace(0,2*np.pi), np.linspace(0,2*np.pi), label = r\"$\\theta_f = \\frac{\\theta_{1i} + \\theta_{2i}}{2}$\", color='g')\n",
    "plt.plot(np.linspace(0,2*np.pi), np.linspace(0,2*np.pi) - np.pi, label = r\"$\\theta_f = \\frac{\\theta_{1i} + \\theta_{2i}}{2}-\\pi$\", color='b')\n",
    "\n",
    "plt.legend()\n",
    "plt.savefig(\"LHCO_avg.pdf\", bbox_inches='tight')\n"
   ]
  },
  {
   "cell_type": "code",
   "execution_count": 37,
   "id": "d536dc8e",
   "metadata": {},
   "outputs": [],
   "source": [
    "c1 = c2 = c3 = c4 = c5 = c6 = 1\n",
    "s1 = s2 = s3 = s4 = s5 = s6 = 2"
   ]
  },
  {
   "cell_type": "code",
   "execution_count": 38,
   "id": "b5dfd611",
   "metadata": {},
   "outputs": [],
   "source": [
    "R1 = np.array([[c1, s1, 0, 0], [-s1, c1, 0, 0], [0, 0, 1, 0], [0, 0, 0, 1]])\n",
    "R2 = np.array([[c2, 0, s2, 0], [0, 1, 0, 0], [-s2, 0, c2, 0], [0, 0, 0, 1]])\n",
    "R3 = np.array([[c3, 0, 0, s3], [0, 1, 0, 0], [0, 0, 1, 0], [-s3, 0, 0, c3]])\n",
    "R4 = np.array([[1, 0, 0, 0], [0, c4, s4, 0], [0, -s4, c4, 0], [0, 0, 0, 1]])\n",
    "R5 = np.array([[1, 0, 0, 0], [0, c5, 0, s5], [0, 0, 1, 0], [0, -s5, 0, c5]])\n",
    "R6 = np.array([[1, 0, 0, 0], [0, 1, 0, 0], [0, 0, c6, s6], [0, 0, -s6, c6]])\n",
    "npc = R1 @ R2 @ R3 @ R4 @ R5 @ R6"
   ]
  },
  {
   "cell_type": "code",
   "execution_count": 39,
   "id": "463ba6eb-3d42-4db4-a3e6-dce0bdf6c597",
   "metadata": {},
   "outputs": [
    {
     "data": {
      "text/plain": [
       "array([[  1,  -6,  10,  10],\n",
       "       [ -2,  17, -30,  10],\n",
       "       [ -2,   6,  17,  -6],\n",
       "       [ -2,  -2,  -2,   1]])"
      ]
     },
     "execution_count": 39,
     "metadata": {},
     "output_type": "execute_result"
    }
   ],
   "source": [
    "npc"
   ]
  },
  {
   "cell_type": "code",
   "execution_count": 18,
   "id": "f07f36e7-a3d8-4012-98cf-2a0e7c3819a0",
   "metadata": {},
   "outputs": [
    {
     "data": {
      "text/plain": [
       "<tf.Tensor: shape=(2,), dtype=int32, numpy=array([4, 4], dtype=int32)>"
      ]
     },
     "execution_count": 18,
     "metadata": {},
     "output_type": "execute_result"
    }
   ],
   "source": []
  },
  {
   "cell_type": "code",
   "execution_count": null,
   "id": "3b71b618-4580-4f5a-9afc-d85d9fc43077",
   "metadata": {},
   "outputs": [],
   "source": []
  }
 ],
 "metadata": {
  "kernelspec": {
   "display_name": "tensorflow-v2.2.0-gpu",
   "language": "python",
   "name": "tensorflow_gpu_2.2.0-py37"
  },
  "language_info": {
   "codemirror_mode": {
    "name": "ipython",
    "version": 3
   },
   "file_extension": ".py",
   "mimetype": "text/x-python",
   "name": "python",
   "nbconvert_exporter": "python",
   "pygments_lexer": "ipython3",
   "version": "3.7.4"
  }
 },
 "nbformat": 4,
 "nbformat_minor": 5
}
